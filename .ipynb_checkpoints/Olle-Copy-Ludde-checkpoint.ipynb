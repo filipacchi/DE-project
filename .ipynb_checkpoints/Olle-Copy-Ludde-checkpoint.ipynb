{
 "cells": [
  {
   "cell_type": "code",
   "execution_count": null,
   "id": "45c763b1-7e4e-49dd-9ecf-9bd0ab0ad519",
   "metadata": {},
   "outputs": [],
   "source": [
    "import pyspark\n",
    "from pyspark.sql import SparkSession, Row\n",
    "from pyspark.sql.types import StructType, StructField, DoubleType, StringType, IntegerType, FloatType\n",
    "from pyspark.sql.functions import col\n",
    "\n",
    "import h5py\n",
    "import numpy as np\n",
    "import pandas as pd\n",
    "import glob"
   ]
  },
  {
   "cell_type": "code",
   "execution_count": null,
   "id": "9d572950-b9b5-4157-95e2-2091f3505213",
   "metadata": {},
   "outputs": [],
   "source": [
    "spark_session = SparkSession\\\n",
    "        .builder\\\n",
    "        .master(\"spark://192.168.2.130:7077\") \\\n",
    "        .appName(\"de16_sparky_ludde2\")\\\n",
    "        .config(\"spark.dynamicAllocation.enabled\", True)\\\n",
    "        .config(\"spark.dynamicAllocation.shuffleTracking.enabled\",True)\\\n",
    "        .config(\"spark.shuffle.service.enabled\", False)\\\n",
    "        .config(\"spark.dynamicAllocation.executorIdleTimeout\",\"300s\")\\\n",
    "        .config(\"spark.executor.cores\",2)\\\n",
    "        .config(\"spark.driver.port\",9999)\\\n",
    "        .config(\"spark.blockManager.port\",10005)\\\n",
    "        .config(\"spark.hadoop.fs.defaultFS\", \"hdfs://192.168.2.130:9000\")\\\n",
    "        .getOrCreate()\n",
    "\n",
    "sc = spark_session.sparkContext"
   ]
  },
  {
   "cell_type": "code",
   "execution_count": null,
   "id": "140207f1-dd08-4e5c-aa97-5574a2ba3bc9",
   "metadata": {},
   "outputs": [],
   "source": [
    "columns = StructType([\n",
    "        StructField('danceability', DoubleType(), nullable=True),\n",
    "        StructField('song_hotttnesss', DoubleType(), nullable=True),\n",
    "        StructField('energy', DoubleType(), nullable=True),\n",
    "        StructField('duration', DoubleType(), nullable=True),\n",
    "        StructField('key', IntegerType(), nullable=True),\n",
    "        StructField('loudness', DoubleType(), nullable=True),\n",
    "        StructField('tempo', DoubleType(), nullable=True),\n",
    "        StructField('time_signature', DoubleType(), nullable=True),\n",
    "        StructField('year', IntegerType(), nullable=True)\n",
    "    ])\n",
    "\n",
    "def init_df():\n",
    "    df = spark_session.createDataFrame([], columns)\n",
    "    return df"
   ]
  },
  {
   "cell_type": "code",
   "execution_count": null,
   "id": "32d48fd9-4edd-4867-a172-770f99282d25",
   "metadata": {},
   "outputs": [],
   "source": [
    "import io\n",
    "\n",
    "def add_song(df, path):\n",
    "    binary = spark_session.read.format(\"binaryFile\").load(path)\n",
    "    content = io.BytesIO(binary.first()['content'])\n",
    "    with h5py.File(content, 'r') as file:\n",
    "        new_song_values = Row(\n",
    "            danceability = float(file['analysis']['songs'][0][2]),  # DoubleType\n",
    "            song_hotttnesss = float(file['metadata']['songs'][0][16]),  # DoubleType\n",
    "            energy = float(file['analysis']['songs'][0][5]),  # DoubleType\n",
    "            duration = float(file['analysis']['songs'][0][3]),  # DoubleType\n",
    "            key = int(file['analysis']['songs'][0][21]),  # IntegerType\n",
    "            loudness = float(file['analysis']['songs'][0][23]),  # DoubleType\n",
    "            tempo = float(file['analysis']['songs'][0][27]),  # DoubleType\n",
    "            time_signature = float(file['analysis']['songs'][0][28]),  # DoubleType\n",
    "            year = int(file['musicbrainz']['songs'][0][1])  # IntegerType\n",
    "        )\n",
    "        new_song = spark_session.createDataFrame([new_song_values], columns)\n",
    "    return df.union(new_song)"
   ]
  },
  {
   "cell_type": "code",
   "execution_count": null,
   "id": "93bbfd9c-5995-4c06-b48b-0186b7c772ec",
   "metadata": {},
   "outputs": [],
   "source": [
    "df = init_df()\n",
    "\n",
    "def list_h5_files(path):\n",
    "    hadoop_conf = sc._jsc.hadoopConfiguration()\n",
    "    fs = sc._jvm.org.apache.hadoop.fs.FileSystem.get(hadoop_conf)\n",
    "    files = []\n",
    "    status = fs.listStatus(sc._jvm.org.apache.hadoop.fs.Path(path))\n",
    "    for file_status in status:\n",
    "        file_path = file_status.getPath()\n",
    "        if file_status.isDirectory():\n",
    "            files.extend(list_h5_files(file_path.toString()))\n",
    "        elif file_path.toString().endswith(\".h5\"):\n",
    "            files.append(file_path.toString())\n",
    "    return files\n",
    "\n",
    "base_directory = \"hdfs://192.168.2.130:9000/user/MillionSongSubset\"\n",
    "song_paths = list_h5_files(base_directory)\n",
    "\n",
    "\n",
    "for i in range(100):  # Max 10000\n",
    "    if i % 10 == 0:\n",
    "        print(i)\n",
    "    df = add_song(df, song_paths[i])\n",
    "\n",
    "path = \"hdfs://192.168.2.130:9000/user/MillionSongSubset/A/A/A/TRAAAAW128F429D538.h5\"\n",
    "\n",
    "df.show()\n",
    "df.printSchema()\n",
    "print(df.count())\n",
    "print(df.rdd.getNumPartitions())"
   ]
  },
  {
   "cell_type": "code",
   "execution_count": null,
   "id": "c51a220c-2516-4684-a971-e63d3f651a40",
   "metadata": {},
   "outputs": [],
   "source": [
    "import io\n",
    "\n",
    "# ... (other code definitions)\n",
    "\n",
    "# Parallelized file processing with foreachPartition\n",
    "def process_partition(iterator):\n",
    "    song_data = []\n",
    "    for path in iterator:\n",
    "        # Process individual files within a partition\n",
    "        row = add_song(spark_session.createDataFrame([], columns), path)\n",
    "        song_data.append(row)\n",
    "    return song_data\n",
    "\n",
    "# Listing HDF5 files using Spark's FileSystem\n",
    "fs = spark.sparkContext.getFileSystem()\n",
    "path = sc._jvm.org.apache.hadoop.fs.Path(base_directory)\n",
    "song_paths = fs.listStatus(path).map(lambda f: f.getPath().toString())\n",
    "filtered_paths = song_paths.filter(col(\"path\").endsWith(\".h5\"))\n",
    "\n",
    "# Parallel processing and list creation\n",
    "song_data = []\n",
    "filtered_paths.foreachPartition(process_partition, includes=song_data)\n",
    "\n",
    "# Combine processed song data\n",
    "df = spark.createDataFrame(song_data, columns)\n",
    "\n",
    "df.show()\n",
    "df.printSchema()\n",
    "print(df.count())\n",
    "print(df.rdd.getNumPartitions())\n"
   ]
  },
  {
   "cell_type": "code",
   "execution_count": null,
   "id": "bc98793a-301c-43a3-b9e0-f23fd9b2bb61",
   "metadata": {},
   "outputs": [],
   "source": [
    "spark_session.stop"
   ]
  },
  {
   "cell_type": "code",
   "execution_count": null,
   "id": "af544074-a76c-4cd9-9fd2-4ba7d3a79363",
   "metadata": {},
   "outputs": [],
   "source": [
    "print(\"HEJ\")"
   ]
  },
  {
   "cell_type": "code",
   "execution_count": null,
   "id": "44349095-d229-434b-900f-3b090d0413c0",
   "metadata": {},
   "outputs": [],
   "source": []
  }
 ],
 "metadata": {
  "kernelspec": {
   "display_name": "Python 3 (ipykernel)",
   "language": "python",
   "name": "python3"
  },
  "language_info": {
   "codemirror_mode": {
    "name": "ipython",
    "version": 3
   },
   "file_extension": ".py",
   "mimetype": "text/x-python",
   "name": "python",
   "nbconvert_exporter": "python",
   "pygments_lexer": "ipython3",
   "version": "3.8.10"
  }
 },
 "nbformat": 4,
 "nbformat_minor": 5
}
