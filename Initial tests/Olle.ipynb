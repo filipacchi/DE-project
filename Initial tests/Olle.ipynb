{
 "cells": [
  {
   "cell_type": "code",
   "execution_count": 1,
   "id": "45c763b1-7e4e-49dd-9ecf-9bd0ab0ad519",
   "metadata": {},
   "outputs": [],
   "source": [
    "import pyspark\n",
    "from pyspark.sql import SparkSession, Row\n",
    "from pyspark.sql.types import StructType, StructField, DoubleType, StringType, IntegerType, FloatType\n",
    "from pyspark.sql.functions import col\n",
    "\n",
    "import h5py\n",
    "import numpy as np\n",
    "import pandas as pd\n",
    "import glob"
   ]
  },
  {
   "cell_type": "code",
   "execution_count": 2,
   "id": "9d572950-b9b5-4157-95e2-2091f3505213",
   "metadata": {},
   "outputs": [
    {
     "name": "stderr",
     "output_type": "stream",
     "text": [
      "Setting default log level to \"WARN\".\n",
      "To adjust logging level use sc.setLogLevel(newLevel). For SparkR, use setLogLevel(newLevel).\n",
      "24/03/07 15:53:44 WARN NativeCodeLoader: Unable to load native-hadoop library for your platform... using builtin-java classes where applicable\n"
     ]
    }
   ],
   "source": [
    "spark_session = SparkSession\\\n",
    "        .builder\\\n",
    "        .master(\"spark://192.168.2.130:7077\") \\\n",
    "        .appName(\"de16_sparky_olle\")\\\n",
    "        .config(\"spark.dynamicAllocation.enabled\", True)\\\n",
    "        .config(\"spark.dynamicAllocation.shuffleTracking.enabled\",True)\\\n",
    "        .config(\"spark.shuffle.service.enabled\", False)\\\n",
    "        .config(\"spark.dynamicAllocation.executorIdleTimeout\",\"300s\")\\\n",
    "        .config(\"spark.executor.cores\",2)\\\n",
    "        .config(\"spark.driver.port\",9999)\\\n",
    "        .config(\"spark.blockManager.port\",10005)\\\n",
    "        .config(\"spark.hadoop.fs.defaultFS\", \"hdfs://192.168.2.130:9000\")\\\n",
    "        .getOrCreate()\n",
    "\n",
    "sc = spark_session.sparkContext"
   ]
  },
  {
   "cell_type": "code",
   "execution_count": 3,
   "id": "140207f1-dd08-4e5c-aa97-5574a2ba3bc9",
   "metadata": {},
   "outputs": [],
   "source": [
    "columns = StructType([\n",
    "    StructField('artist_name', StringType(), nullable=True),\n",
    "    StructField('danceability', DoubleType(), nullable=True),\n",
    "    StructField('duration', DoubleType(), nullable=True),\n",
    "    StructField('end_of_fade_in', DoubleType(), nullable=True),\n",
    "    StructField('energy', DoubleType(), nullable=True),\n",
    "    StructField('key', IntegerType(), nullable=True),\n",
    "    StructField('key_confidence', DoubleType(), nullable=True),\n",
    "    StructField('loudness', DoubleType(), nullable=True),\n",
    "    StructField('mode', IntegerType(), nullable=True),\n",
    "    StructField('mode_confidence', DoubleType(), nullable=True),\n",
    "    StructField('release', StringType(), nullable=True),\n",
    "    StructField('song_hotttnesss', DoubleType(), nullable=True),\n",
    "    StructField('song_id', StringType(), nullable=True),\n",
    "    StructField('start_of_fade_out', DoubleType(), nullable=True),\n",
    "    StructField('tempo', DoubleType(), nullable=True),\n",
    "    StructField('time_signature', IntegerType(), nullable=True),\n",
    "    StructField('time_signature_confidence', DoubleType(), nullable=True),\n",
    "    StructField('title', StringType(), nullable=True),\n",
    "    StructField('year', IntegerType(), nullable=True)\n",
    "])\n",
    "\n",
    "def init_df():\n",
    "    df = spark_session.createDataFrame([], columns)\n",
    "    return df"
   ]
  },
  {
   "cell_type": "code",
   "execution_count": 4,
   "id": "32d48fd9-4edd-4867-a172-770f99282d25",
   "metadata": {},
   "outputs": [],
   "source": [
    "import io\n",
    "\n",
    "def add_song(df, path):\n",
    "    binary = spark_session.read.format(\"binaryFile\").load(path)\n",
    "    content = io.BytesIO(binary.first()['content'])\n",
    "    with h5py.File(content, 'r') as file:\n",
    "        new_song_values = Row(\n",
    "            artist_name = str(file['metadata']['songs'][0][9]),  # StringType\n",
    "            danceability = float(file['analysis']['songs'][0][2]),  # DoubleType\n",
    "            duration = float(file['analysis']['songs'][0][3]),  # DoubleType\n",
    "            end_of_fade_in = float(file['analysis']['songs'][0][4]),  # DoubleType\n",
    "            energy = float(file['analysis']['songs'][0][5]),  # DoubleType\n",
    "            key = int(file['analysis']['songs'][0][21]),  # IntegerType\n",
    "            key_confidence = float(file['analysis']['songs'][0][22]),  # DoubleType\n",
    "            loudness = float(file['analysis']['songs'][0][23]),  # DoubleType\n",
    "            mode = int(file['analysis']['songs'][0][24]),  # IntegerType\n",
    "            mode_confidence = float(file['analysis']['songs'][0][25]),  # DoubleType\n",
    "            release = str(file['metadata']['songs'][0][14]),  # StringType\n",
    "            song_hotttnesss = float(file['metadata']['songs'][0][16]),  # DoubleType\n",
    "            song_id = str(file['metadata']['songs'][0][17]),\n",
    "            start_of_fade_out = float(file['analysis']['songs'][0][26]),\n",
    "            tempo = float(file['analysis']['songs'][0][27]),  # DoubleType\n",
    "            time_signature = int(file['analysis']['songs'][0][28]),  # IntegerType\n",
    "            time_signature_confidence = float(file['analysis']['songs'][0][29]),\n",
    "            title = str(file['metadata']['songs'][0][18]),\n",
    "            year = int(file['musicbrainz']['songs'][0][1])  # IntegerType\n",
    "        )\n",
    "        new_song = spark_session.createDataFrame([new_song_values], columns)\n",
    "    return df.union(new_song).repartition(2)"
   ]
  },
  {
   "cell_type": "code",
   "execution_count": 5,
   "id": "93bbfd9c-5995-4c06-b48b-0186b7c772ec",
   "metadata": {},
   "outputs": [
    {
     "name": "stdout",
     "output_type": "stream",
     "text": [
      "0\n"
     ]
    },
    {
     "name": "stderr",
     "output_type": "stream",
     "text": [
      "                                                                                \r"
     ]
    },
    {
     "name": "stdout",
     "output_type": "stream",
     "text": [
      "1\n",
      "2\n",
      "3\n",
      "4\n",
      "5\n",
      "6\n",
      "7\n",
      "8\n",
      "9\n"
     ]
    },
    {
     "name": "stderr",
     "output_type": "stream",
     "text": [
      "                                                                                \r"
     ]
    },
    {
     "name": "stdout",
     "output_type": "stream",
     "text": [
      "+--------------------+------------+---------+--------------+------+---+--------------+--------+----+---------------+--------------------+-------------------+--------------------+-----------------+-------+--------------+-------------------------+--------------------+----+\n",
      "|         artist_name|danceability| duration|end_of_fade_in|energy|key|key_confidence|loudness|mode|mode_confidence|             release|    song_hotttnesss|             song_id|start_of_fade_out|  tempo|time_signature|time_signature_confidence|               title|year|\n",
      "+--------------------+------------+---------+--------------+------+---+--------------+--------+----+---------------+--------------------+-------------------+--------------------+-----------------+-------+--------------+-------------------------+--------------------+----+\n",
      "| b'Planet P Project'|         0.0|269.81832|           5.3|   0.0|  4|         0.717| -13.496|   1|          0.652|       b'Pink World'|0.26586104921065007|b'SOIAZJW12AB0185...|           258.99| 86.643|             4|                    0.487|       b'Pink World'|1984|\n",
      "|         b'Adam Ant'|         0.0|233.40363|           0.0|   0.0|  0|         0.751|  -9.013|   1|          0.749|    b'Friend Or Foe'|                NaN|b'SONHOTT12A8C134...|          217.124|119.293|             4|                      0.0|  b'Something Girls'|1982|\n",
      "|b'Jeff And Sheri ...|         0.0| 267.7024|         2.264|   0.0|  5|         0.635|  -9.323|   1|          0.557|     b'Ordinary Day'|                NaN|b'SOYMRWW12A6D4FA...|           254.27|147.782|             3|                    0.454|b'The Moon And I ...|   0|\n",
      "|b'Tweeterfriendly...|         0.0|189.57016|         0.319|   0.0|  4|           0.0| -11.642|   0|           0.16|     b'Gin & Phonic'|                NaN|b'SOHKNRJ12A6701D...|          181.023| 101.43|             3|                    0.408|     b'Drop of Rain'|   0|\n",
      "|              b'Clp'|         0.0|266.39628|         0.084|   0.0|  7|         0.053|  -6.697|   0|          0.473|b'Superinstrumental'|                NaN|b'SOUDSGM12AC9618...|          261.747|114.041|             4|                    0.878|b'Insatiable (Ins...|   0|\n",
      "|           b'Casual'|         0.0|218.93179|         0.247|   0.0|  1|         0.736| -11.197|   0|          0.636|      b'Fear Itself'| 0.6021199899057548|b'SOMZWCG12A8C13C...|          218.932| 92.198|             4|                    0.778| b\"I Didn't Mean To\"|   0|\n",
      "| b'Sonora Santanera'|         0.0|177.47546|         0.282|   0.0|  8|         0.643|  -9.689|   1|          0.565|b'Las Numero 1 De...|                NaN|b'SOXVLOJ12AB0189...|          172.304| 100.07|             1|                      0.0|  b'Amor De Cabaret'|   0|\n",
      "|     b'The Box Tops'|         0.0|148.03546|         0.148|   0.0|  6|         0.169|  -9.843|   0|           0.43|       b'Dimensions'|                NaN|b'SOCIWDW12A8C13D...|          137.915|121.274|             4|                    0.384|        b'Soul Deep'|1969|\n",
      "|              b'Gob'|         0.0|209.60608|         0.066|   0.0|  2|         0.092|  -4.501|   1|          0.371|    b'Muertos Vivos'| 0.6045007385888197|b'SOFSOCN12A8C143...|          198.699|129.738|             4|                    0.562|   b'Face the Ashes'|2007|\n",
      "|          b'Rated R'|         0.0|114.78159|         0.096|   0.0|  1|           0.0| -17.302|   1|            0.0|b'Da Ghetto Psychic'|                NaN|b'SOMJBYD12A6D4F8...|          114.782|111.787|             1|                      0.0|b'Keepin It Real ...|   0|\n",
      "+--------------------+------------+---------+--------------+------+---+--------------+--------+----+---------------+--------------------+-------------------+--------------------+-----------------+-------+--------------+-------------------------+--------------------+----+\n",
      "\n",
      "root\n",
      " |-- artist_name: string (nullable = true)\n",
      " |-- danceability: double (nullable = true)\n",
      " |-- duration: double (nullable = true)\n",
      " |-- end_of_fade_in: double (nullable = true)\n",
      " |-- energy: double (nullable = true)\n",
      " |-- key: integer (nullable = true)\n",
      " |-- key_confidence: double (nullable = true)\n",
      " |-- loudness: double (nullable = true)\n",
      " |-- mode: integer (nullable = true)\n",
      " |-- mode_confidence: double (nullable = true)\n",
      " |-- release: string (nullable = true)\n",
      " |-- song_hotttnesss: double (nullable = true)\n",
      " |-- song_id: string (nullable = true)\n",
      " |-- start_of_fade_out: double (nullable = true)\n",
      " |-- tempo: double (nullable = true)\n",
      " |-- time_signature: integer (nullable = true)\n",
      " |-- time_signature_confidence: double (nullable = true)\n",
      " |-- title: string (nullable = true)\n",
      " |-- year: integer (nullable = true)\n",
      "\n",
      "10\n",
      "2\n"
     ]
    }
   ],
   "source": [
    "df = init_df()\n",
    "\n",
    "def list_h5_files(path):\n",
    "    hadoop_conf = sc._jsc.hadoopConfiguration()\n",
    "    fs = sc._jvm.org.apache.hadoop.fs.FileSystem.get(hadoop_conf)\n",
    "    files = []\n",
    "    status = fs.listStatus(sc._jvm.org.apache.hadoop.fs.Path(path))\n",
    "    for file_status in status:\n",
    "        file_path = file_status.getPath()\n",
    "        if file_status.isDirectory():\n",
    "            files.extend(list_h5_files(file_path.toString()))\n",
    "        elif file_path.toString().endswith(\".h5\"):\n",
    "            files.append(file_path.toString())\n",
    "    return files\n",
    "\n",
    "base_directory = \"hdfs://192.168.2.130:9000/user/MillionSongSubset\"\n",
    "song_paths = list_h5_files(base_directory)\n",
    "\n",
    "for i in range(10):  # Max 10000\n",
    "    if i % 1 == 0:\n",
    "        print(i)\n",
    "    df = add_song(df, song_paths[i])\n",
    "\n",
    "df.show()\n",
    "df.printSchema()\n",
    "print(df.count())\n",
    "print(df.rdd.getNumPartitions())"
   ]
  },
  {
   "cell_type": "code",
   "execution_count": 7,
   "id": "bc98793a-301c-43a3-b9e0-f23fd9b2bb61",
   "metadata": {},
   "outputs": [],
   "source": [
    "spark_session.stop()"
   ]
  },
  {
   "cell_type": "code",
   "execution_count": null,
   "id": "f407af02-141c-479a-967d-007799018eda",
   "metadata": {},
   "outputs": [],
   "source": []
  }
 ],
 "metadata": {
  "kernelspec": {
   "display_name": "Python 3 (ipykernel)",
   "language": "python",
   "name": "python3"
  },
  "language_info": {
   "codemirror_mode": {
    "name": "ipython",
    "version": 3
   },
   "file_extension": ".py",
   "mimetype": "text/x-python",
   "name": "python",
   "nbconvert_exporter": "python",
   "pygments_lexer": "ipython3",
   "version": "3.8.10"
  }
 },
 "nbformat": 4,
 "nbformat_minor": 5
}
